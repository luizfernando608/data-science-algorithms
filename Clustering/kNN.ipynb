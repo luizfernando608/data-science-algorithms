{
 "cells": [
  {
   "cell_type": "markdown",
   "source": [
    "# Bayes Theorem and kNN"
   ],
   "metadata": {}
  },
  {
   "cell_type": "code",
   "execution_count": 1,
   "source": [
    "import pandas as pd\r\n",
    "import numpy as np\r\n",
    "import matplotlib.pyplot as plt\r\n",
    "import seaborn as sns "
   ],
   "outputs": [],
   "metadata": {}
  },
  {
   "cell_type": "markdown",
   "source": [
    "Load the glass dataset from the `datasets/glass.csv` file into a pandas DataFrame.\n",
    "\n",
    "This is a short description of the columns in this dataset:\n",
    "\n",
    "```plain\n",
    "1. Id number: 1 to 214 (removed for convenience)\n",
    "2. RI: refractive index\n",
    "3. Na: Sodium (unit measurement: weight percent in corresponding oxide, as are attributes 4-10)\n",
    "4. Mg: Magnesium\n",
    "5. Al: Aluminum\n",
    "6. Si: Silicon\n",
    "7. K: Potassium\n",
    "8. Ca: Calcium\n",
    "9. Ba: Barium\n",
    "10. Fe: Iron\n",
    "11. Type of glass: (class attribute)\n",
    "-- 1 building_windows_float_processed\n",
    "-- 2 building_windows_non_float_processed\n",
    "-- 3 vehicle_windows_float_processed\n",
    "-- 4 vehicle_windows_non_float_processed (none in this database)\n",
    "-- 5 containers\n",
    "-- 6 tableware\n",
    "-- 7 headlamps\n",
    "```\n",
    "\n",
    "you can read more about it [here](https://archive.ics.uci.edu/ml/datasets/Glass+Identification).\n",
    "For convenience, I've pre-processed the original dataset and removed the ID attribute."
   ],
   "metadata": {}
  },
  {
   "cell_type": "code",
   "execution_count": 2,
   "source": [
    "import pandas as pd \r\n",
    "\r\n",
    "df= pd.read_csv(\"datasets/glass.csv\")\r\n",
    "df.head()"
   ],
   "outputs": [
    {
     "output_type": "execute_result",
     "data": {
      "text/html": [
       "<div>\n",
       "<style scoped>\n",
       "    .dataframe tbody tr th:only-of-type {\n",
       "        vertical-align: middle;\n",
       "    }\n",
       "\n",
       "    .dataframe tbody tr th {\n",
       "        vertical-align: top;\n",
       "    }\n",
       "\n",
       "    .dataframe thead th {\n",
       "        text-align: right;\n",
       "    }\n",
       "</style>\n",
       "<table border=\"1\" class=\"dataframe\">\n",
       "  <thead>\n",
       "    <tr style=\"text-align: right;\">\n",
       "      <th></th>\n",
       "      <th>RI</th>\n",
       "      <th>Na</th>\n",
       "      <th>Mg</th>\n",
       "      <th>Al</th>\n",
       "      <th>Si</th>\n",
       "      <th>K</th>\n",
       "      <th>Ca</th>\n",
       "      <th>Ba</th>\n",
       "      <th>Fe</th>\n",
       "      <th>Type</th>\n",
       "    </tr>\n",
       "  </thead>\n",
       "  <tbody>\n",
       "    <tr>\n",
       "      <th>0</th>\n",
       "      <td>1.52101</td>\n",
       "      <td>13.64</td>\n",
       "      <td>4.49</td>\n",
       "      <td>1.10</td>\n",
       "      <td>71.78</td>\n",
       "      <td>0.06</td>\n",
       "      <td>8.75</td>\n",
       "      <td>0.0</td>\n",
       "      <td>0.0</td>\n",
       "      <td>1</td>\n",
       "    </tr>\n",
       "    <tr>\n",
       "      <th>1</th>\n",
       "      <td>1.51761</td>\n",
       "      <td>13.89</td>\n",
       "      <td>3.60</td>\n",
       "      <td>1.36</td>\n",
       "      <td>72.73</td>\n",
       "      <td>0.48</td>\n",
       "      <td>7.83</td>\n",
       "      <td>0.0</td>\n",
       "      <td>0.0</td>\n",
       "      <td>1</td>\n",
       "    </tr>\n",
       "    <tr>\n",
       "      <th>2</th>\n",
       "      <td>1.51618</td>\n",
       "      <td>13.53</td>\n",
       "      <td>3.55</td>\n",
       "      <td>1.54</td>\n",
       "      <td>72.99</td>\n",
       "      <td>0.39</td>\n",
       "      <td>7.78</td>\n",
       "      <td>0.0</td>\n",
       "      <td>0.0</td>\n",
       "      <td>1</td>\n",
       "    </tr>\n",
       "    <tr>\n",
       "      <th>3</th>\n",
       "      <td>1.51766</td>\n",
       "      <td>13.21</td>\n",
       "      <td>3.69</td>\n",
       "      <td>1.29</td>\n",
       "      <td>72.61</td>\n",
       "      <td>0.57</td>\n",
       "      <td>8.22</td>\n",
       "      <td>0.0</td>\n",
       "      <td>0.0</td>\n",
       "      <td>1</td>\n",
       "    </tr>\n",
       "    <tr>\n",
       "      <th>4</th>\n",
       "      <td>1.51742</td>\n",
       "      <td>13.27</td>\n",
       "      <td>3.62</td>\n",
       "      <td>1.24</td>\n",
       "      <td>73.08</td>\n",
       "      <td>0.55</td>\n",
       "      <td>8.07</td>\n",
       "      <td>0.0</td>\n",
       "      <td>0.0</td>\n",
       "      <td>1</td>\n",
       "    </tr>\n",
       "  </tbody>\n",
       "</table>\n",
       "</div>"
      ],
      "text/plain": [
       "        RI     Na    Mg    Al     Si     K    Ca   Ba   Fe  Type\n",
       "0  1.52101  13.64  4.49  1.10  71.78  0.06  8.75  0.0  0.0     1\n",
       "1  1.51761  13.89  3.60  1.36  72.73  0.48  7.83  0.0  0.0     1\n",
       "2  1.51618  13.53  3.55  1.54  72.99  0.39  7.78  0.0  0.0     1\n",
       "3  1.51766  13.21  3.69  1.29  72.61  0.57  8.22  0.0  0.0     1\n",
       "4  1.51742  13.27  3.62  1.24  73.08  0.55  8.07  0.0  0.0     1"
      ]
     },
     "metadata": {},
     "execution_count": 2
    }
   ],
   "metadata": {}
  },
  {
   "cell_type": "markdown",
   "source": [
    "## Inspect the data\n",
    "\n",
    "Use seaborn to plot a heatmap displaying the correlation matrix of every attribute in the dataset"
   ],
   "metadata": {}
  },
  {
   "cell_type": "code",
   "execution_count": 3,
   "source": [
    "import seaborn as sns\r\n",
    "import matplotlib.pyplot as plt \r\n",
    "sns.heatmap(df.corr())\r\n",
    "plt.show()\r\n"
   ],
   "outputs": [
    {
     "output_type": "display_data",
     "data": {
      "image/png": "[encoded data removed]",
      "text/plain": [
       "<Figure size 432x288 with 2 Axes>"
      ]
     },
     "metadata": {
      "needs_background": "light"
     }
    }
   ],
   "metadata": {}
  },
  {
   "cell_type": "markdown",
   "source": [
    "In the cell below, use pandas to get an idea of the distribution of the values in each variable"
   ],
   "metadata": {}
  },
  {
   "cell_type": "code",
   "execution_count": 4,
   "source": [
    "df.describe()"
   ],
   "outputs": [
    {
     "output_type": "execute_result",
     "data": {
      "text/html": [
       "<div>\n",
       "<style scoped>\n",
       "    .dataframe tbody tr th:only-of-type {\n",
       "        vertical-align: middle;\n",
       "    }\n",
       "\n",
       "    .dataframe tbody tr th {\n",
       "        vertical-align: top;\n",
       "    }\n",
       "\n",
       "    .dataframe thead th {\n",
       "        text-align: right;\n",
       "    }\n",
       "</style>\n",
       "<table border=\"1\" class=\"dataframe\">\n",
       "  <thead>\n",
       "    <tr style=\"text-align: right;\">\n",
       "      <th></th>\n",
       "      <th>RI</th>\n",
       "      <th>Na</th>\n",
       "      <th>Mg</th>\n",
       "      <th>Al</th>\n",
       "      <th>Si</th>\n",
       "      <th>K</th>\n",
       "      <th>Ca</th>\n",
       "      <th>Ba</th>\n",
       "      <th>Fe</th>\n",
       "      <th>Type</th>\n",
       "    </tr>\n",
       "  </thead>\n",
       "  <tbody>\n",
       "    <tr>\n",
       "      <th>count</th>\n",
       "      <td>214.000000</td>\n",
       "      <td>214.000000</td>\n",
       "      <td>214.000000</td>\n",
       "      <td>214.000000</td>\n",
       "      <td>214.000000</td>\n",
       "      <td>214.000000</td>\n",
       "      <td>214.000000</td>\n",
       "      <td>214.000000</td>\n",
       "      <td>214.000000</td>\n",
       "      <td>214.000000</td>\n",
       "    </tr>\n",
       "    <tr>\n",
       "      <th>mean</th>\n",
       "      <td>1.518365</td>\n",
       "      <td>13.407850</td>\n",
       "      <td>2.684533</td>\n",
       "      <td>1.444907</td>\n",
       "      <td>72.650935</td>\n",
       "      <td>0.497056</td>\n",
       "      <td>8.956963</td>\n",
       "      <td>0.175047</td>\n",
       "      <td>0.057009</td>\n",
       "      <td>2.780374</td>\n",
       "    </tr>\n",
       "    <tr>\n",
       "      <th>std</th>\n",
       "      <td>0.003037</td>\n",
       "      <td>0.816604</td>\n",
       "      <td>1.442408</td>\n",
       "      <td>0.499270</td>\n",
       "      <td>0.774546</td>\n",
       "      <td>0.652192</td>\n",
       "      <td>1.423153</td>\n",
       "      <td>0.497219</td>\n",
       "      <td>0.097439</td>\n",
       "      <td>2.103739</td>\n",
       "    </tr>\n",
       "    <tr>\n",
       "      <th>min</th>\n",
       "      <td>1.511150</td>\n",
       "      <td>10.730000</td>\n",
       "      <td>0.000000</td>\n",
       "      <td>0.290000</td>\n",
       "      <td>69.810000</td>\n",
       "      <td>0.000000</td>\n",
       "      <td>5.430000</td>\n",
       "      <td>0.000000</td>\n",
       "      <td>0.000000</td>\n",
       "      <td>1.000000</td>\n",
       "    </tr>\n",
       "    <tr>\n",
       "      <th>25%</th>\n",
       "      <td>1.516522</td>\n",
       "      <td>12.907500</td>\n",
       "      <td>2.115000</td>\n",
       "      <td>1.190000</td>\n",
       "      <td>72.280000</td>\n",
       "      <td>0.122500</td>\n",
       "      <td>8.240000</td>\n",
       "      <td>0.000000</td>\n",
       "      <td>0.000000</td>\n",
       "      <td>1.000000</td>\n",
       "    </tr>\n",
       "    <tr>\n",
       "      <th>50%</th>\n",
       "      <td>1.517680</td>\n",
       "      <td>13.300000</td>\n",
       "      <td>3.480000</td>\n",
       "      <td>1.360000</td>\n",
       "      <td>72.790000</td>\n",
       "      <td>0.555000</td>\n",
       "      <td>8.600000</td>\n",
       "      <td>0.000000</td>\n",
       "      <td>0.000000</td>\n",
       "      <td>2.000000</td>\n",
       "    </tr>\n",
       "    <tr>\n",
       "      <th>75%</th>\n",
       "      <td>1.519157</td>\n",
       "      <td>13.825000</td>\n",
       "      <td>3.600000</td>\n",
       "      <td>1.630000</td>\n",
       "      <td>73.087500</td>\n",
       "      <td>0.610000</td>\n",
       "      <td>9.172500</td>\n",
       "      <td>0.000000</td>\n",
       "      <td>0.100000</td>\n",
       "      <td>3.000000</td>\n",
       "    </tr>\n",
       "    <tr>\n",
       "      <th>max</th>\n",
       "      <td>1.533930</td>\n",
       "      <td>17.380000</td>\n",
       "      <td>4.490000</td>\n",
       "      <td>3.500000</td>\n",
       "      <td>75.410000</td>\n",
       "      <td>6.210000</td>\n",
       "      <td>16.190000</td>\n",
       "      <td>3.150000</td>\n",
       "      <td>0.510000</td>\n",
       "      <td>7.000000</td>\n",
       "    </tr>\n",
       "  </tbody>\n",
       "</table>\n",
       "</div>"
      ],
      "text/plain": [
       "               RI          Na          Mg          Al          Si           K  \\\n",
       "count  214.000000  214.000000  214.000000  214.000000  214.000000  214.000000   \n",
       "mean     1.518365   13.407850    2.684533    1.444907   72.650935    0.497056   \n",
       "std      0.003037    0.816604    1.442408    0.499270    0.774546    0.652192   \n",
       "min      1.511150   10.730000    0.000000    0.290000   69.810000    0.000000   \n",
       "25%      1.516522   12.907500    2.115000    1.190000   72.280000    0.122500   \n",
       "50%      1.517680   13.300000    3.480000    1.360000   72.790000    0.555000   \n",
       "75%      1.519157   13.825000    3.600000    1.630000   73.087500    0.610000   \n",
       "max      1.533930   17.380000    4.490000    3.500000   75.410000    6.210000   \n",
       "\n",
       "               Ca          Ba          Fe        Type  \n",
       "count  214.000000  214.000000  214.000000  214.000000  \n",
       "mean     8.956963    0.175047    0.057009    2.780374  \n",
       "std      1.423153    0.497219    0.097439    2.103739  \n",
       "min      5.430000    0.000000    0.000000    1.000000  \n",
       "25%      8.240000    0.000000    0.000000    1.000000  \n",
       "50%      8.600000    0.000000    0.000000    2.000000  \n",
       "75%      9.172500    0.000000    0.100000    3.000000  \n",
       "max     16.190000    3.150000    0.510000    7.000000  "
      ]
     },
     "metadata": {},
     "execution_count": 4
    }
   ],
   "metadata": {}
  },
  {
   "cell_type": "markdown",
   "source": [
    "## Bayes Theorem\n",
    "\n",
    "The point of this section is to consolidate some of the ideas explained in the past lectures regarding bayes theorem.\n",
    "\n",
    "### 1) Prepare and inspect the dataset\n",
    "\n",
    "The full dataset has 7 types of glass, but to make these concepts easier to visualize, let's reduce the dataset to 2 classes only.\n",
    "\n",
    "Use pandas to create a filtered version of the dataset, where only types `1` and `7` are present"
   ],
   "metadata": {}
  },
  {
   "cell_type": "code",
   "execution_count": 5,
   "source": [
    "df_filtered = df.loc[(df['Type'] == 7) | (df['Type'] == 1)]\r\n",
    "df_filtered.head()"
   ],
   "outputs": [
    {
     "output_type": "execute_result",
     "data": {
      "text/html": [
       "<div>\n",
       "<style scoped>\n",
       "    .dataframe tbody tr th:only-of-type {\n",
       "        vertical-align: middle;\n",
       "    }\n",
       "\n",
       "    .dataframe tbody tr th {\n",
       "        vertical-align: top;\n",
       "    }\n",
       "\n",
       "    .dataframe thead th {\n",
       "        text-align: right;\n",
       "    }\n",
       "</style>\n",
       "<table border=\"1\" class=\"dataframe\">\n",
       "  <thead>\n",
       "    <tr style=\"text-align: right;\">\n",
       "      <th></th>\n",
       "      <th>RI</th>\n",
       "      <th>Na</th>\n",
       "      <th>Mg</th>\n",
       "      <th>Al</th>\n",
       "      <th>Si</th>\n",
       "      <th>K</th>\n",
       "      <th>Ca</th>\n",
       "      <th>Ba</th>\n",
       "      <th>Fe</th>\n",
       "      <th>Type</th>\n",
       "    </tr>\n",
       "  </thead>\n",
       "  <tbody>\n",
       "    <tr>\n",
       "      <th>0</th>\n",
       "      <td>1.52101</td>\n",
       "      <td>13.64</td>\n",
       "      <td>4.49</td>\n",
       "      <td>1.10</td>\n",
       "      <td>71.78</td>\n",
       "      <td>0.06</td>\n",
       "      <td>8.75</td>\n",
       "      <td>0.0</td>\n",
       "      <td>0.0</td>\n",
       "      <td>1</td>\n",
       "    </tr>\n",
       "    <tr>\n",
       "      <th>1</th>\n",
       "      <td>1.51761</td>\n",
       "      <td>13.89</td>\n",
       "      <td>3.60</td>\n",
       "      <td>1.36</td>\n",
       "      <td>72.73</td>\n",
       "      <td>0.48</td>\n",
       "      <td>7.83</td>\n",
       "      <td>0.0</td>\n",
       "      <td>0.0</td>\n",
       "      <td>1</td>\n",
       "    </tr>\n",
       "    <tr>\n",
       "      <th>2</th>\n",
       "      <td>1.51618</td>\n",
       "      <td>13.53</td>\n",
       "      <td>3.55</td>\n",
       "      <td>1.54</td>\n",
       "      <td>72.99</td>\n",
       "      <td>0.39</td>\n",
       "      <td>7.78</td>\n",
       "      <td>0.0</td>\n",
       "      <td>0.0</td>\n",
       "      <td>1</td>\n",
       "    </tr>\n",
       "    <tr>\n",
       "      <th>3</th>\n",
       "      <td>1.51766</td>\n",
       "      <td>13.21</td>\n",
       "      <td>3.69</td>\n",
       "      <td>1.29</td>\n",
       "      <td>72.61</td>\n",
       "      <td>0.57</td>\n",
       "      <td>8.22</td>\n",
       "      <td>0.0</td>\n",
       "      <td>0.0</td>\n",
       "      <td>1</td>\n",
       "    </tr>\n",
       "    <tr>\n",
       "      <th>4</th>\n",
       "      <td>1.51742</td>\n",
       "      <td>13.27</td>\n",
       "      <td>3.62</td>\n",
       "      <td>1.24</td>\n",
       "      <td>73.08</td>\n",
       "      <td>0.55</td>\n",
       "      <td>8.07</td>\n",
       "      <td>0.0</td>\n",
       "      <td>0.0</td>\n",
       "      <td>1</td>\n",
       "    </tr>\n",
       "  </tbody>\n",
       "</table>\n",
       "</div>"
      ],
      "text/plain": [
       "        RI     Na    Mg    Al     Si     K    Ca   Ba   Fe  Type\n",
       "0  1.52101  13.64  4.49  1.10  71.78  0.06  8.75  0.0  0.0     1\n",
       "1  1.51761  13.89  3.60  1.36  72.73  0.48  7.83  0.0  0.0     1\n",
       "2  1.51618  13.53  3.55  1.54  72.99  0.39  7.78  0.0  0.0     1\n",
       "3  1.51766  13.21  3.69  1.29  72.61  0.57  8.22  0.0  0.0     1\n",
       "4  1.51742  13.27  3.62  1.24  73.08  0.55  8.07  0.0  0.0     1"
      ]
     },
     "metadata": {},
     "execution_count": 5
    }
   ],
   "metadata": {}
  },
  {
   "cell_type": "markdown",
   "source": [
    "Plot the heatmap and the stats from the preious section, but on the filtered dataset"
   ],
   "metadata": {}
  },
  {
   "cell_type": "code",
   "execution_count": 6,
   "source": [
    "print(df_filtered.corr())\r\n",
    "sns.heatmap(df_filtered.corr(), cmap=\"Blues\")\r\n",
    "plt.show()"
   ],
   "outputs": [
    {
     "output_type": "stream",
     "name": "stdout",
     "text": [
      "            RI        Na        Mg        Al        Si         K        Ca  \\\n",
      "RI    1.000000  0.070756  0.390138 -0.584621 -0.728410 -0.234257  0.584969   \n",
      "Na    0.070756  1.000000 -0.642001  0.472276 -0.286824 -0.534359  0.004782   \n",
      "Mg    0.390138 -0.642001  1.000000 -0.821480 -0.422799  0.253823  0.057084   \n",
      "Al   -0.584621  0.472276 -0.821480  1.000000  0.384408 -0.153047 -0.281534   \n",
      "Si   -0.728410 -0.286824 -0.422799  0.384408  1.000000  0.211186 -0.288118   \n",
      "K    -0.234257 -0.534359  0.253823 -0.153047  0.211186  1.000000 -0.520444   \n",
      "Ca    0.584969  0.004782  0.057084 -0.281534 -0.288118 -0.520444  1.000000   \n",
      "Ba   -0.217240  0.656019 -0.749993  0.585325  0.110545 -0.136821 -0.388852   \n",
      "Fe   -0.062835 -0.343512  0.186073 -0.142168  0.089361  0.059827  0.089544   \n",
      "Type -0.298934  0.701920 -0.908954  0.799578  0.222939 -0.138379 -0.193491   \n",
      "\n",
      "            Ba        Fe      Type  \n",
      "RI   -0.217240 -0.062835 -0.298934  \n",
      "Na    0.656019 -0.343512  0.701920  \n",
      "Mg   -0.749993  0.186073 -0.908954  \n",
      "Al    0.585325 -0.142168  0.799578  \n",
      "Si    0.110545  0.089361  0.222939  \n",
      "K    -0.136821  0.059827 -0.138379  \n",
      "Ca   -0.388852  0.089544 -0.193491  \n",
      "Ba    1.000000 -0.214360  0.791755  \n",
      "Fe   -0.214360  1.000000 -0.252254  \n",
      "Type  0.791755 -0.252254  1.000000  \n"
     ]
    },
    {
     "output_type": "display_data",
     "data": {
      "image/png": "[encoded data removed]",
      "text/plain": [
       "<Figure size 432x288 with 2 Axes>"
      ]
     },
     "metadata": {
      "needs_background": "light"
     }
    }
   ],
   "metadata": {}
  },
  {
   "cell_type": "code",
   "execution_count": 7,
   "source": [
    "df_filtered.describe()"
   ],
   "outputs": [
    {
     "output_type": "execute_result",
     "data": {
      "text/html": [
       "<div>\n",
       "<style scoped>\n",
       "    .dataframe tbody tr th:only-of-type {\n",
       "        vertical-align: middle;\n",
       "    }\n",
       "\n",
       "    .dataframe tbody tr th {\n",
       "        vertical-align: top;\n",
       "    }\n",
       "\n",
       "    .dataframe thead th {\n",
       "        text-align: right;\n",
       "    }\n",
       "</style>\n",
       "<table border=\"1\" class=\"dataframe\">\n",
       "  <thead>\n",
       "    <tr style=\"text-align: right;\">\n",
       "      <th></th>\n",
       "      <th>RI</th>\n",
       "      <th>Na</th>\n",
       "      <th>Mg</th>\n",
       "      <th>Al</th>\n",
       "      <th>Si</th>\n",
       "      <th>K</th>\n",
       "      <th>Ca</th>\n",
       "      <th>Ba</th>\n",
       "      <th>Fe</th>\n",
       "      <th>Type</th>\n",
       "    </tr>\n",
       "  </thead>\n",
       "  <tbody>\n",
       "    <tr>\n",
       "      <th>count</th>\n",
       "      <td>99.000000</td>\n",
       "      <td>99.000000</td>\n",
       "      <td>99.000000</td>\n",
       "      <td>99.000000</td>\n",
       "      <td>99.000000</td>\n",
       "      <td>99.000000</td>\n",
       "      <td>99.000000</td>\n",
       "      <td>99.000000</td>\n",
       "      <td>99.000000</td>\n",
       "      <td>99.000000</td>\n",
       "    </tr>\n",
       "    <tr>\n",
       "      <th>mean</th>\n",
       "      <td>1.518249</td>\n",
       "      <td>13.593737</td>\n",
       "      <td>2.669495</td>\n",
       "      <td>1.444747</td>\n",
       "      <td>72.720707</td>\n",
       "      <td>0.411616</td>\n",
       "      <td>8.707677</td>\n",
       "      <td>0.313636</td>\n",
       "      <td>0.044242</td>\n",
       "      <td>2.757576</td>\n",
       "    </tr>\n",
       "    <tr>\n",
       "      <th>std</th>\n",
       "      <td>0.002451</td>\n",
       "      <td>0.781867</td>\n",
       "      <td>1.516844</td>\n",
       "      <td>0.548568</td>\n",
       "      <td>0.711392</td>\n",
       "      <td>0.404126</td>\n",
       "      <td>0.723177</td>\n",
       "      <td>0.593496</td>\n",
       "      <td>0.078974</td>\n",
       "      <td>2.744534</td>\n",
       "    </tr>\n",
       "    <tr>\n",
       "      <th>min</th>\n",
       "      <td>1.511310</td>\n",
       "      <td>11.950000</td>\n",
       "      <td>0.000000</td>\n",
       "      <td>0.290000</td>\n",
       "      <td>70.260000</td>\n",
       "      <td>0.000000</td>\n",
       "      <td>5.430000</td>\n",
       "      <td>0.000000</td>\n",
       "      <td>0.000000</td>\n",
       "      <td>1.000000</td>\n",
       "    </tr>\n",
       "    <tr>\n",
       "      <th>25%</th>\n",
       "      <td>1.516980</td>\n",
       "      <td>12.930000</td>\n",
       "      <td>2.015000</td>\n",
       "      <td>1.165000</td>\n",
       "      <td>72.270000</td>\n",
       "      <td>0.080000</td>\n",
       "      <td>8.430000</td>\n",
       "      <td>0.000000</td>\n",
       "      <td>0.000000</td>\n",
       "      <td>1.000000</td>\n",
       "    </tr>\n",
       "    <tr>\n",
       "      <th>50%</th>\n",
       "      <td>1.517640</td>\n",
       "      <td>13.440000</td>\n",
       "      <td>3.480000</td>\n",
       "      <td>1.290000</td>\n",
       "      <td>72.950000</td>\n",
       "      <td>0.540000</td>\n",
       "      <td>8.670000</td>\n",
       "      <td>0.000000</td>\n",
       "      <td>0.000000</td>\n",
       "      <td>1.000000</td>\n",
       "    </tr>\n",
       "    <tr>\n",
       "      <th>75%</th>\n",
       "      <td>1.519100</td>\n",
       "      <td>14.205000</td>\n",
       "      <td>3.605000</td>\n",
       "      <td>1.795000</td>\n",
       "      <td>73.110000</td>\n",
       "      <td>0.590000</td>\n",
       "      <td>9.035000</td>\n",
       "      <td>0.535000</td>\n",
       "      <td>0.070000</td>\n",
       "      <td>7.000000</td>\n",
       "    </tr>\n",
       "    <tr>\n",
       "      <th>max</th>\n",
       "      <td>1.526670</td>\n",
       "      <td>15.790000</td>\n",
       "      <td>4.490000</td>\n",
       "      <td>2.880000</td>\n",
       "      <td>75.180000</td>\n",
       "      <td>2.700000</td>\n",
       "      <td>10.170000</td>\n",
       "      <td>2.880000</td>\n",
       "      <td>0.310000</td>\n",
       "      <td>7.000000</td>\n",
       "    </tr>\n",
       "  </tbody>\n",
       "</table>\n",
       "</div>"
      ],
      "text/plain": [
       "              RI         Na         Mg         Al         Si          K  \\\n",
       "count  99.000000  99.000000  99.000000  99.000000  99.000000  99.000000   \n",
       "mean    1.518249  13.593737   2.669495   1.444747  72.720707   0.411616   \n",
       "std     0.002451   0.781867   1.516844   0.548568   0.711392   0.404126   \n",
       "min     1.511310  11.950000   0.000000   0.290000  70.260000   0.000000   \n",
       "25%     1.516980  12.930000   2.015000   1.165000  72.270000   0.080000   \n",
       "50%     1.517640  13.440000   3.480000   1.290000  72.950000   0.540000   \n",
       "75%     1.519100  14.205000   3.605000   1.795000  73.110000   0.590000   \n",
       "max     1.526670  15.790000   4.490000   2.880000  75.180000   2.700000   \n",
       "\n",
       "              Ca         Ba         Fe       Type  \n",
       "count  99.000000  99.000000  99.000000  99.000000  \n",
       "mean    8.707677   0.313636   0.044242   2.757576  \n",
       "std     0.723177   0.593496   0.078974   2.744534  \n",
       "min     5.430000   0.000000   0.000000   1.000000  \n",
       "25%     8.430000   0.000000   0.000000   1.000000  \n",
       "50%     8.670000   0.000000   0.000000   1.000000  \n",
       "75%     9.035000   0.535000   0.070000   7.000000  \n",
       "max    10.170000   2.880000   0.310000   7.000000  "
      ]
     },
     "metadata": {},
     "execution_count": 7
    }
   ],
   "metadata": {}
  },
  {
   "cell_type": "markdown",
   "source": [
    "Filter the dataset even further, by removing all attributes except the `Type`, and the **top 3 attributes that positively correlate with `Type`**.\n",
    "\n",
    "Then, use seaborn to plot the relations between these attributes and the `Type`\n",
    "\n",
    "**NOTE:** my plot removes the names of the variables to avoid giving away the solution, your plot should have the names of the variables"
   ],
   "metadata": {}
  },
  {
   "cell_type": "code",
   "execution_count": 8,
   "source": [
    "# df[['Type','Al','Ba','Mg']]\r\n",
    "df_final = df_filtered[['Type','Al','Ba','Mg']]"
   ],
   "outputs": [],
   "metadata": {}
  },
  {
   "cell_type": "code",
   "execution_count": 9,
   "source": [
    "import matplotlib.pyplot as plt\r\n",
    "plot = sns.pairplot(data=df_final, hue=\"Type\")"
   ],
   "outputs": [
    {
     "output_type": "display_data",
     "data": {
      "image/png": "[encoded data removed]",
      "text/plain": [
       "<Figure size 582.375x540 with 12 Axes>"
      ]
     },
     "metadata": {
      "needs_background": "light"
     }
    }
   ],
   "metadata": {}
  },
  {
   "cell_type": "code",
   "execution_count": 10,
   "source": [
    "# your code here"
   ],
   "outputs": [],
   "metadata": {}
  },
  {
   "cell_type": "markdown",
   "source": [
    "Finally, use scikit-learn to split the dataset into training and testing, using 25% of the datapoints for testing. \n",
    "\n",
    "To get the same values as I do, set `random_state=0`"
   ],
   "metadata": {}
  },
  {
   "cell_type": "code",
   "execution_count": 11,
   "source": [
    "from sklearn.model_selection import train_test_split\r\n",
    "train, test = train_test_split(df_final,random_state = 0, test_size=0.25)\r\n",
    "\r\n",
    "train[train['Type']==1].shape[0]/train.shape[0]\r\n"
   ],
   "outputs": [
    {
     "output_type": "execute_result",
     "data": {
      "text/plain": [
       "0.7162162162162162"
      ]
     },
     "metadata": {},
     "execution_count": 11
    }
   ],
   "metadata": {}
  },
  {
   "cell_type": "markdown",
   "source": [
    "### 2) Model 1: prior only\n",
    "\n",
    "Use numpy to make a `prior` model (a function) that predicts the label (`Type`) based solely on the prior information (from the training set).\n",
    "\n",
    "Calculate the accuracy of the prediction (in the testing set)"
   ],
   "metadata": {}
  },
  {
   "cell_type": "code",
   "execution_count": 12,
   "source": [
    "def calculate_prior(data, label, column='Type'):\r\n",
    "    r\"\"\"Calculates the prior probability of `label` within `data`\r\n",
    "    \r\n",
    "    Parameters\r\n",
    "    ----------\r\n",
    "    label : int\r\n",
    "        value of the label for which the prior will be calculated\r\n",
    "    column : str\r\n",
    "        the name of the column to be considered as the label in `data`, \r\n",
    "        'Type' by default\r\n",
    "    data : pandas DataFrame\r\n",
    "        the data\r\n",
    "    \r\n",
    "    Returns\r\n",
    "    -------\r\n",
    "    float\r\n",
    "        P(label)\r\n",
    "    \"\"\"\r\n",
    "    r\"\"\" \r\n",
    "    Por exemplo, \r\n",
    "    train[train[Types]==1].shape[0] -> quantidade total de tipos 1\r\n",
    "    train.shape[0] -> Número total de dados\r\n",
    "    \"\"\"\r\n",
    "    return data[data[column] == label].shape[0] / data.shape[0]"
   ],
   "outputs": [],
   "metadata": {}
  },
  {
   "cell_type": "code",
   "execution_count": 13,
   "source": [
    "def prior_model(a, b, label_a, label_b, data):\r\n",
    "    r\"\"\"Predicts binary labels based on the prior probability\r\n",
    "    \r\n",
    "    Parameters\r\n",
    "    ----------\r\n",
    "    a : float \r\n",
    "        Prior probability of label a\r\n",
    "    b : float\r\n",
    "        Prior probability of label b\r\n",
    "    label_a : int\r\n",
    "        value of label a\r\n",
    "    label_b : int\r\n",
    "        value of label b\r\n",
    "    data : pandas DataFrame\r\n",
    "        the data for which predictions will be made\r\n",
    "    \r\n",
    "    Returns\r\n",
    "    -------\r\n",
    "    numpy.array\r\n",
    "        An array of predicitons for every from the set {label_a, label_b}\r\n",
    "        \r\n",
    "    Notes\r\n",
    "    -----\r\n",
    "    HINT: remember to reset the random seed for reproducible results\r\n",
    "    Esta função retorna uma lista um série de valores \"a\" ou \"b\".\r\n",
    "    Nesta lista, a probabilidade de escolher o item \"a\" é \"a\", ou seja,\r\n",
    "    a probabilidade de escolher \"a\" na lista é a mesma probabilidade de \r\n",
    "    escolher \"a\" na data_set.\r\n",
    "    Além dos mais, a lista possui o mesmo número de itens da coluna type\r\n",
    "    do dataset.\r\n",
    "    \"\"\"\r\n",
    "    np.random.seed(0)\r\n",
    "    \"\"\"\r\n",
    "    Explicando a função:\r\n",
    "    [label_a, label_b] -> Define que o array só poussuirá ou o valor label_a ou o valor label_b.\r\n",
    "    p=[a,b] -> \"a\" e \"b\" São as probabilidades de um item na lista ser \"label_a\" e \"label_b\".\r\n",
    "    size=data.shape[0] -> A extensão da lista\r\n",
    "    \"\"\"\r\n",
    "    return np.random.choice([label_a, label_b], p=[a,b], size=data.shape[0])\r\n",
    "    "
   ],
   "outputs": [],
   "metadata": {}
  },
  {
   "cell_type": "code",
   "execution_count": 14,
   "source": [
    "prior_type_1 = calculate_prior(train, 1)\r\n",
    "priot_type_7 = calculate_prior(train, 7)\r\n",
    "\r\n",
    "pred = prior_model(prior_type_1, priot_type_7, 1, 7, test)\r\n",
    "print(pred)"
   ],
   "outputs": [
    {
     "output_type": "stream",
     "name": "stdout",
     "text": [
      "[1 1 1 1 1 1 1 7 7 1 7 1 1 7 1 1 1 7 7 7 7 7 1 7 1]\n"
     ]
    }
   ],
   "metadata": {}
  },
  {
   "cell_type": "code",
   "execution_count": 15,
   "source": [
    "from sklearn.metrics import accuracy_score\r\n",
    "#COMO FUNCIONA A FUNÇÂO ACCURACY_PRIOR\r\n",
    "#ELA CONTA O NÚMERO DE CASOS QUE FORAM PREVISTOS CORRETAMENTE\r\n",
    "#E DIVIDE PELO TOTAL DE CASOS\r\n",
    "count = 0\r\n",
    "for i in range(len(pred)):\r\n",
    "    count += pred[i]== np.array(test[\"Type\"])[i]\r\n",
    "print(count/len(pred))\r\n",
    "\r\n",
    "accuracy_prior = accuracy_score(test[\"Type\"], pred)\r\n",
    "print(accuracy_prior)"
   ],
   "outputs": [
    {
     "output_type": "stream",
     "name": "stdout",
     "text": [
      "0.44\n",
      "0.44\n"
     ]
    }
   ],
   "metadata": {}
  },
  {
   "cell_type": "markdown",
   "source": [
    "### Model 2: naive bayes\n",
    "\n",
    "You probably agree that the model we just implemented is not very good (after all, we did not even rely on the features of the data).\n",
    "Now, we will build a model called [Naive Bayes](https://en.wikipedia.org/wiki/Naive_Bayes_classifier) from scratch.\n",
    "\n",
    "We are looking to calculate the conditional probability that `Type` is 1 (or 7) given the 3 attributes we selected above, this is: \n",
    "\n",
    "$$P(T=1 | x_1, x_2, x_3)$$\n",
    "\n",
    "where $T$ represents the `type` and $x_1, x_2, x_3$ is a vector of features $\\mathbb{x}$\n",
    "\n",
    "To build this classifier, we are going to use the [Bayes' theorem](https://en.wikipedia.org/wiki/Bayes%27_theorem):\n",
    "\n",
    "$$P(A|B) = \\frac{P(B|A)P(A)}{P(B)}$$\n",
    "\n",
    "Translating what we want to estimate to our problem, we can that Bayes' theorem for type 1 is written as follows:\n",
    "\n",
    "$$P(T=1|\\mathbb{x}) = \\frac{P(\\mathbb{x}|T=1)P(T=1)}{P(\\mathbb{x})}$$\n",
    "\n",
    "and for type 7\n",
    "\n",
    "$$P(T=7|\\mathbb{x}) = \\frac{P(\\mathbb{x}|T=7)P(T=7)}{P(\\mathbb{x})}$$\n",
    "\n",
    "To build a Bayes' classifier using this, we will estimate the likelihood under the assumption that variables $x_1, x_2, $ and $x_3$ are independently and identically distributed, which allows us to model the likelihood as:\n",
    "\n",
    "$$P(x_1, x_2, x_3 | T=t) = P(x_1 | T=t)P(x_2 | T=t)P(x_3 | T=t)$$\n",
    "\n",
    "Finally, the decision rule will be implemented as selecting the class that results in the highest posterior.\n",
    "\n",
    "Implement the classes below using the training set, and calculate the accuracy in the testing set.\n",
    "\n",
    "**NOTE:** For implementing `conditional_prob`, you will need to fit a normal distribution to a univariate data, please [read the documentation](https://docs.scipy.org/doc/scipy/reference/generated/scipy.stats.norm.html) of the function that will help you implement this (if you don't have scipy installed, you can install it running `pip install scipy` on your console). Once you fit the distribution to the data, you can then call the `pdf` method of the distribution to calculate the probability of a single value."
   ],
   "metadata": {}
  },
  {
   "cell_type": "code",
   "execution_count": 16,
   "source": [
    "from scipy.stats import norm\r\n",
    "import seaborn as sns\r\n",
    "\r\n",
    "def calculate_prior(data, label, column='Type'):\r\n",
    "    r\"\"\"Calculates the prior probability of `label` within `data`\r\n",
    "    \r\n",
    "    Parameters\r\n",
    "    ----------\r\n",
    "    label : int\r\n",
    "        value of the label for which the prior will be calculated\r\n",
    "    column : str\r\n",
    "        the name of the column to be considered as the label in `data`, \r\n",
    "        'Type' by default\r\n",
    "    data : pandas DataFrame\r\n",
    "        the data\r\n",
    "    \r\n",
    "    Returns\r\n",
    "    -------\r\n",
    "    float\r\n",
    "        P(label)\r\n",
    "    \"\"\"\r\n",
    "    r\"\"\" \r\n",
    "    Por exemplo, \r\n",
    "    train[train[Types]==1].shape[0] -> quantidade total de tipos 1\r\n",
    "    train.shape[0] -> Número total de dados\r\n",
    "    \"\"\"\r\n",
    "    return data[data[column] == label].shape[0] / data.shape[0]\r\n",
    "\r\n",
    "\r\n",
    "\r\n",
    "def conditional_prob(data, material, tipo_de_vidro, coluna_com_tipo_de_vidro='Type'):\r\n",
    "    \"\"\"(data, column, label, label_column='Type')\"\"\"\r\n",
    "    r\"\"\"Calculates the conditional probability P(column|label)\r\n",
    "    \r\n",
    "    Parameters\r\n",
    "    ----------\r\n",
    "    data : pandas DataFrame\r\n",
    "        the data to be fitted\r\n",
    "    column : str\r\n",
    "        the name of the column in `data` corresponding to the variable\r\n",
    "    label : int\r\n",
    "        the value of the label for the conditional probability\r\n",
    "    label_column : the name of the column in `data`, defaults to 'Type'\r\n",
    "    \r\n",
    "    Returns\r\n",
    "    -------\r\n",
    "        a scipy normal continuous random variable fitted to the conditional probability\r\n",
    "    Notes\r\n",
    "    -----\r\n",
    "    HINT: remember that the parameters of the normal distribution are the mean and the standard deviation\r\n",
    "    \"\"\"\r\n",
    "    mu = data[data[coluna_com_tipo_de_vidro] == tipo_de_vidro][material].mean()\r\n",
    "    sigma = data[data[coluna_com_tipo_de_vidro] == tipo_de_vidro][material].std()\r\n",
    "    #Retornaa uma função de distribuição de um material em um dado tipo de vidro\r\n",
    "    #O eixo x é a quantidade de um dado material\r\n",
    "#     print(mu)\r\n",
    "    return norm(mu,sigma)\r\n",
    "    \r\n",
    "x = np.linspace(-5,5,100)\r\n",
    "func = conditional_prob(train, \"Mg\", 7).pdf(x)\r\n",
    "plt.plot(x, func)\r\n",
    "conditional_prob(train, \"Mg\", 1)"
   ],
   "outputs": [
    {
     "output_type": "execute_result",
     "data": {
      "text/plain": [
       "<scipy.stats._distn_infrastructure.rv_frozen at 0x1ed3ea54ca0>"
      ]
     },
     "metadata": {},
     "execution_count": 16
    },
    {
     "output_type": "display_data",
     "data": {
      "image/png": "[encoded data removed]",
      "text/plain": [
       "<Figure size 432x288 with 1 Axes>"
      ]
     },
     "metadata": {
      "needs_background": "light"
     }
    }
   ],
   "metadata": {}
  },
  {
   "cell_type": "markdown",
   "source": [
    "Use your implementation to calculate the posterior probability of a label given the data"
   ],
   "metadata": {}
  },
  {
   "cell_type": "code",
   "execution_count": 17,
   "source": [
    "def posterior_probability(data, cond_probs, prior):\r\n",
    "    r\"\"\"Calculates the posterior probability of the label using the priors and conditional probabilities provided\r\n",
    "    using the naive bayes assumption\r\n",
    "    \r\n",
    "    Parameters\r\n",
    "    ----------\r\n",
    "    data : pandas.DataFrame\r\n",
    "        a dataframe containing samples for which the posterior probability will be calculated\r\n",
    "    cond_probs : dict\r\n",
    "        a python dictionary with a key for every variable in `data` and the\r\n",
    "        corresponding conditional probability as the value\r\n",
    "    prior : float\r\n",
    "        posterior probability of a label\r\n",
    "    \r\n",
    "    Returns\r\n",
    "    -------\r\n",
    "    numpy.array\r\n",
    "        an array with the posterior probabilities of each sample in `data`\r\n",
    "    \"\"\"\r\n",
    "    def inner_multiplication(row):\r\n",
    "        # we start with the prior\r\n",
    "        mult = prior\r\n",
    "        # we iterate every variable, and multiply the conditional probability to the prior\r\n",
    "        \r\n",
    "        for column, distribution in cond_probs.items():\r\n",
    "            mult *= distribution.pdf(row[column])\r\n",
    "            #print(f\"column:{column}, distribution:{distribution}\")\r\n",
    "        return mult\r\n",
    "    \r\n",
    "    cols = list(cond_probs.keys())\r\n",
    "    \r\n",
    "    #    MINHA VERSAO DA FUNCAO\r\n",
    "############################################################    \r\n",
    "    probabilites = list()\r\n",
    "    for linha in data[cols].values:\r\n",
    "        multiplicador = prior\r\n",
    "        for num, item in enumerate(linha):\r\n",
    "            multiplicador *= cond_probs[cols[num]].pdf(item)\r\n",
    "        probabilites.append(multiplicador*prior)\r\n",
    "    probabilites= np.array(probabilites)\r\n",
    "###########################################################\r\n",
    "\r\n",
    "    return data[cols].apply(inner_multiplication, axis=1).values * prior\r\n",
    "  \r\n",
    "\r\n",
    "probabilidades_condicionais = {\r\n",
    "    \"Al\":conditional_prob(train, \"Al\", 1),\r\n",
    "    \"Ba\":conditional_prob(train, \"Ba\", 1),\r\n",
    "    \"Mg\":conditional_prob(train, \"Mg\", 1)\r\n",
    "}\r\n",
    "\r\n",
    "prior = calculate_prior(train, 1)\r\n",
    "\r\n",
    "posterior_probability(train, probabilidades_condicionais, prior)\r\n"
   ],
   "outputs": [
    {
     "output_type": "execute_result",
     "data": {
      "text/plain": [
       "array([1.77661176e+000, 5.60684663e+000, 1.73424198e-133, 1.65535664e-080,\n",
       "       3.65147664e-080, 5.50091785e+000, 1.89319123e-081, 2.15530177e-080,\n",
       "       3.99732329e+000, 2.33606916e+000, 4.01735341e+000, 4.28198173e+000,\n",
       "       4.82881781e+000, 1.39380940e+000, 5.39248067e-081, 4.21734862e+000,\n",
       "       1.10391433e-010, 2.92134990e+000, 4.01996466e+000, 5.21722022e+000,\n",
       "       5.25666896e+000, 1.63307411e+000, 5.17917848e+000, 1.98957177e-001,\n",
       "       1.43184632e+000, 2.28389812e-123, 5.15501487e+000, 2.69636398e-004,\n",
       "       4.35605180e+000, 3.27506502e+000, 4.25910153e-001, 4.73669159e+000,\n",
       "       4.43640300e+000, 4.33543576e+000, 1.23653106e-002, 1.66271712e+000,\n",
       "       5.19214081e+000, 3.45242182e+000, 4.35267566e+000, 1.65066264e-125,\n",
       "       4.33339749e-079, 3.60134067e+000, 4.20457925e-078, 4.74628352e+000,\n",
       "       3.25556453e-136, 9.24401358e-001, 4.53227348e+000, 2.80872918e+000,\n",
       "       6.68613807e-131, 2.43242996e-125, 3.06524092e+000, 2.70073838e+000,\n",
       "       4.23327639e-080, 2.65288038e+000, 1.53537648e-077, 5.35638645e+000,\n",
       "       3.83221280e+000, 6.75281720e-087, 3.24716860e+000, 1.98957177e-001,\n",
       "       5.61055080e+000, 4.14370801e+000, 2.86308805e+000, 3.58705097e-034,\n",
       "       3.10900393e-078, 2.86067350e+000, 5.54980101e-002, 3.78695493e-082,\n",
       "       4.21734862e+000, 5.09899684e-127, 3.45242182e+000, 2.95778084e+000,\n",
       "       1.58947284e+000, 4.20182645e+000])"
      ]
     },
     "metadata": {},
     "execution_count": 17
    }
   ],
   "metadata": {}
  },
  {
   "cell_type": "markdown",
   "source": [
    "below, I provide the code that uses the functions you just implemented to predict using the naive classifier "
   ],
   "metadata": {}
  },
  {
   "cell_type": "code",
   "execution_count": 18,
   "source": [
    "def naive_classifier(data, cond_probs, priors):\r\n",
    "    r\"\"\"Classifies samples in `data` using the naive bayes assumption\r\n",
    "    \r\n",
    "    Parameters\r\n",
    "    ----------\r\n",
    "    data : pandas.DataFrame\r\n",
    "        a dataframe containing samples for which predictions will be made\r\n",
    "    cond_probs : dict of dicts\r\n",
    "        a python dictionary with a key for every label in `priors`\r\n",
    "        and a dictionary compatible with `posterior_probability` as the value\r\n",
    "    priors : dict\r\n",
    "        a python dictionary with a key for every label in `data` and the\r\n",
    "        corresponding prior as the value\r\n",
    "    \r\n",
    "    Returns\r\n",
    "    -------\r\n",
    "    numpy.array\r\n",
    "        An array of predicitons for every from the set of labels corresponding to keys in `priors`\r\n",
    "    \"\"\"\r\n",
    "    predictions = {}\r\n",
    "    for tipo_de_vidro, prior in priors.items():\r\n",
    "        predictions[tipo_de_vidro] = posterior_probability(data, cond_probs[tipo_de_vidro], prior)\r\n",
    "    # return predictions by indicating the label with maximum posterior\r\n",
    "    print(pd.DataFrame(predictions).idxmax(axis=1))\r\n",
    "    print(pd.DataFrame(predictions))\r\n",
    "    return pd.DataFrame(predictions).idxmax(axis=1).values"
   ],
   "outputs": [],
   "metadata": {}
  },
  {
   "cell_type": "markdown",
   "source": [
    "**OPTIONAL:** you can use the code below to run all the pipeline, assuming you input the names of your training and testing datasets correctly"
   ],
   "metadata": {}
  },
  {
   "cell_type": "code",
   "execution_count": 19,
   "source": [
    "# training\r\n",
    "# build a dictionary of priors for each class\r\n",
    "priors = {\r\n",
    "    1: calculate_prior(train, 1),\r\n",
    "    7: calculate_prior(train, 7)\r\n",
    "}\r\n",
    "\r\n",
    "# build a dictionary of posteriors for each class\r\n",
    "attributes = [c for c in train.columns if c != 'Type']\r\n",
    "cond_probs = {}\r\n",
    "cond_probs[1] = {col: conditional_prob(train, col, 1) for col in attributes}\r\n",
    "cond_probs[7] = {col: conditional_prob(train, col, 7) for col in attributes}\r\n",
    "# print(cond_probs)\r\n",
    "# testing\r\n",
    "# predict\r\n",
    "pred = naive_classifier(test, cond_probs, priors)\r\n",
    "print(pred)\r\n",
    "# evaluate\r\n",
    "accuracy = accuracy_score(test['Type'], pred)\r\n",
    "print(accuracy)"
   ],
   "outputs": [
    {
     "output_type": "stream",
     "name": "stdout",
     "text": [
      "0     1\n",
      "1     7\n",
      "2     1\n",
      "3     1\n",
      "4     7\n",
      "5     7\n",
      "6     1\n",
      "7     7\n",
      "8     1\n",
      "9     7\n",
      "10    1\n",
      "11    7\n",
      "12    7\n",
      "13    1\n",
      "14    1\n",
      "15    1\n",
      "16    1\n",
      "17    1\n",
      "18    1\n",
      "19    1\n",
      "20    1\n",
      "21    1\n",
      "22    1\n",
      "23    7\n",
      "24    1\n",
      "dtype: int64\n",
      "                1             7\n",
      "0    3.233324e+00  9.645217e-06\n",
      "1    4.038650e-67  2.651031e-04\n",
      "2    2.164245e+00  1.291213e-05\n",
      "3    5.188985e-04  3.914832e-05\n",
      "4    5.324107e-31  5.252363e-03\n",
      "5   1.333738e-260  3.512129e-05\n",
      "6    5.114912e+00  1.635714e-06\n",
      "7    3.856798e-12  8.511769e-04\n",
      "8    3.760591e-03  3.139819e-05\n",
      "9   2.082446e-100  5.099956e-03\n",
      "10   6.611799e-03  2.794739e-05\n",
      "11  4.565565e-112  1.178825e-02\n",
      "12  4.608836e-127  9.889399e-03\n",
      "13   5.068716e+00  4.043173e-06\n",
      "14   5.311688e+00  1.034284e-06\n",
      "15   4.815469e+00  4.675322e-06\n",
      "16   4.847049e+00  3.726725e-06\n",
      "17   5.189418e+00  2.566799e-06\n",
      "18   3.448852e+00  8.739354e-06\n",
      "19   4.122952e+00  6.067910e-06\n",
      "20   8.861112e-01  5.003388e-08\n",
      "21   1.483520e+00  1.550798e-07\n",
      "22   4.284637e+00  3.011917e-06\n",
      "23   1.492148e-64  2.319994e-04\n",
      "24   3.832213e+00  7.439826e-06\n",
      "[1 7 1 1 7 7 1 7 1 7 1 7 7 1 1 1 1 1 1 1 1 1 1 7 1]\n",
      "1.0\n"
     ]
    }
   ],
   "metadata": {}
  },
  {
   "cell_type": "markdown",
   "source": [
    "# kNN\n",
    "\n",
    "Split the unfiltered dataset on training and testing (25% for testing), and use scikit-learn to fit a k nearest neighbors classifier, \n",
    "\n",
    "Make a plot that shows the test accuracy of the classifier on the y axis, and values of k on the x axis, use k from 2 to 15.\n",
    "\n",
    "**Suggestion:** extract the data and the labels into numpy arrays before starting this excersice, to follow more closely scikit-learn conventions"
   ],
   "metadata": {}
  },
  {
   "cell_type": "code",
   "execution_count": 20,
   "source": [
    "from sklearn.neighbors import KNeighborsClassifier\r\n",
    "X = df.drop(\"Type\", axis=1)\r\n",
    "y = df[\"Type\"]\r\n",
    "X_train, X_test, y_train, y_test = train_test_split(X, y, test_size=0.25, random_state=0)\r\n",
    "\r\n",
    "metrics = {\"k\":[], \"score\":[]}\r\n",
    "\r\n",
    "for i in range(2,16):\r\n",
    "    neigh = KNeighborsClassifier(n_neighbors=i)\r\n",
    "    neigh.fit(X_train, y_train)\r\n",
    "    metrics['k'].append(i)\r\n",
    "    metrics['score'].append(accuracy_score (neigh.predict(X_test), y_test))\r\n",
    "\r\n",
    "plt.plot(metrics['k'], metrics['score']) "
   ],
   "outputs": [
    {
     "output_type": "stream",
     "name": "stderr",
     "text": [
      "C:\\Users\\Luiz Luz\\AppData\\Local\\Programs\\Python\\Python39\\lib\\site-packages\\sklearn\\base.py:441: UserWarning: X does not have valid feature names, but KNeighborsClassifier was fitted with feature names\n",
      "  warnings.warn(\n",
      "C:\\Users\\Luiz Luz\\AppData\\Local\\Programs\\Python\\Python39\\lib\\site-packages\\sklearn\\base.py:441: UserWarning: X does not have valid feature names, but KNeighborsClassifier was fitted with feature names\n",
      "  warnings.warn(\n",
      "C:\\Users\\Luiz Luz\\AppData\\Local\\Programs\\Python\\Python39\\lib\\site-packages\\sklearn\\base.py:441: UserWarning: X does not have valid feature names, but KNeighborsClassifier was fitted with feature names\n",
      "  warnings.warn(\n",
      "C:\\Users\\Luiz Luz\\AppData\\Local\\Programs\\Python\\Python39\\lib\\site-packages\\sklearn\\base.py:441: UserWarning: X does not have valid feature names, but KNeighborsClassifier was fitted with feature names\n",
      "  warnings.warn(\n",
      "C:\\Users\\Luiz Luz\\AppData\\Local\\Programs\\Python\\Python39\\lib\\site-packages\\sklearn\\base.py:441: UserWarning: X does not have valid feature names, but KNeighborsClassifier was fitted with feature names\n",
      "  warnings.warn(\n",
      "C:\\Users\\Luiz Luz\\AppData\\Local\\Programs\\Python\\Python39\\lib\\site-packages\\sklearn\\base.py:441: UserWarning: X does not have valid feature names, but KNeighborsClassifier was fitted with feature names\n",
      "  warnings.warn(\n",
      "C:\\Users\\Luiz Luz\\AppData\\Local\\Programs\\Python\\Python39\\lib\\site-packages\\sklearn\\base.py:441: UserWarning: X does not have valid feature names, but KNeighborsClassifier was fitted with feature names\n",
      "  warnings.warn(\n",
      "C:\\Users\\Luiz Luz\\AppData\\Local\\Programs\\Python\\Python39\\lib\\site-packages\\sklearn\\base.py:441: UserWarning: X does not have valid feature names, but KNeighborsClassifier was fitted with feature names\n",
      "  warnings.warn(\n",
      "C:\\Users\\Luiz Luz\\AppData\\Local\\Programs\\Python\\Python39\\lib\\site-packages\\sklearn\\base.py:441: UserWarning: X does not have valid feature names, but KNeighborsClassifier was fitted with feature names\n",
      "  warnings.warn(\n",
      "C:\\Users\\Luiz Luz\\AppData\\Local\\Programs\\Python\\Python39\\lib\\site-packages\\sklearn\\base.py:441: UserWarning: X does not have valid feature names, but KNeighborsClassifier was fitted with feature names\n",
      "  warnings.warn(\n",
      "C:\\Users\\Luiz Luz\\AppData\\Local\\Programs\\Python\\Python39\\lib\\site-packages\\sklearn\\base.py:441: UserWarning: X does not have valid feature names, but KNeighborsClassifier was fitted with feature names\n",
      "  warnings.warn(\n",
      "C:\\Users\\Luiz Luz\\AppData\\Local\\Programs\\Python\\Python39\\lib\\site-packages\\sklearn\\base.py:441: UserWarning: X does not have valid feature names, but KNeighborsClassifier was fitted with feature names\n",
      "  warnings.warn(\n",
      "C:\\Users\\Luiz Luz\\AppData\\Local\\Programs\\Python\\Python39\\lib\\site-packages\\sklearn\\base.py:441: UserWarning: X does not have valid feature names, but KNeighborsClassifier was fitted with feature names\n",
      "  warnings.warn(\n",
      "C:\\Users\\Luiz Luz\\AppData\\Local\\Programs\\Python\\Python39\\lib\\site-packages\\sklearn\\base.py:441: UserWarning: X does not have valid feature names, but KNeighborsClassifier was fitted with feature names\n",
      "  warnings.warn(\n"
     ]
    },
    {
     "output_type": "execute_result",
     "data": {
      "text/plain": [
       "[<matplotlib.lines.Line2D at 0x1ed3ed97f40>]"
      ]
     },
     "metadata": {},
     "execution_count": 20
    },
    {
     "output_type": "display_data",
     "data": {
      "image/png": "[encoded data removed]",
      "text/plain": [
       "<Figure size 432x288 with 1 Axes>"
      ]
     },
     "metadata": {
      "needs_background": "light"
     }
    }
   ],
   "metadata": {}
  },
  {
   "cell_type": "markdown",
   "source": [
    "# Optional, further explorations\n",
    "\n",
    "read the documentation on kNN classifiers on scikit-learn, and play with the other parameters to determine if other versions of kNN improve the results."
   ],
   "metadata": {}
  }
 ],
 "metadata": {
  "kernelspec": {
   "name": "python3",
   "display_name": "Python 3.9.7 64-bit"
  },
  "language_info": {
   "codemirror_mode": {
    "name": "ipython",
    "version": 3
   },
   "file_extension": ".py",
   "mimetype": "text/x-python",
   "name": "python",
   "nbconvert_exporter": "python",
   "pygments_lexer": "ipython3",
   "version": "3.9.7"
  },
  "metadata": {
   "interpreter": {
    "hash": "13d8c936807e7e3d1a057b88a7c0a7e5ccf7c0ed5e2b15d29dccef87a282ad17"
   }
  },
  "interpreter": {
   "hash": "9d22e210787f932f44a26469d735647043a268fad5da08dd695a23660e1e54d0"
  }
 },
 "nbformat": 4,
 "nbformat_minor": 4
}