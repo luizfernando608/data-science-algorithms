{
 "cells": [
  {
   "cell_type": "code",
   "execution_count": 1,
   "source": [
    "import pandas as pd \r\n",
    "import numpy as np  \r\n",
    "import matplotlib.pyplot as plt \r\n",
    "import seaborn as sns "
   ],
   "outputs": [],
   "metadata": {}
  },
  {
   "cell_type": "code",
   "execution_count": 2,
   "source": [
    "data = pd.read_csv('https://archive.ics.uci.edu/ml/machine-learning-databases/00267/data_banknote_authentication.txt', \r\n",
    "                    names=['variance', 'skewness', 'curtosis', 'entropy', 'class'])\r\n",
    "\r\n",
    "X = data.loc[:, data.columns != 'class'].values\r\n",
    "y = data['class'].values"
   ],
   "outputs": [],
   "metadata": {}
  },
  {
   "cell_type": "code",
   "execution_count": null,
   "source": [
    "data = pd.read_csv(\"data_banknote_authentication.txt\", sep=\",\", header=None)\r\n",
    "data.rename(columns={0:\"x1\", 1:\"x2\",2:\"x3\",3:\"x4\", 4:\"outcome\" }, inplace=True)\r\n",
    "X = data.drop([\"outcome\"], axis=1).values\r\n",
    "y = data[\"outcome\"].values"
   ],
   "outputs": [],
   "metadata": {}
  },
  {
   "cell_type": "code",
   "execution_count": null,
   "source": [
    "income_data = pd.read_csv(\"../Trabalho A2/adult.data\", \r\n",
    "        names=[\"age\", \"workclass\",\"fnlwgt\",\"education\",\"education-num\",\"marital-status\",\"occupation\",\r\n",
    "                \"relationship\", \"race\", \"sex\", \"capital-gain\", \"capital-loss\", \"hours-per-week\", \"native-country\", \"income\"], index_col=False)\r\n",
    "\r\n",
    "binary_income_data = pd.get_dummies(income_data).drop(\"income_ <=50K\", axis=1)\r\n",
    "\r\n",
    "X = binary_income_data.drop(\"income_ >50K\", axis=1).values\r\n",
    "y = binary_income_data[\"income_ >50K\"].values"
   ],
   "outputs": [],
   "metadata": {}
  },
  {
   "cell_type": "code",
   "execution_count": null,
   "source": [
    "from sklearn.model_selection import train_test_split\r\n",
    "X_train, X_test, y_train, y_test = train_test_split(X, y, test_size=0.30, random_state=0)"
   ],
   "outputs": [],
   "metadata": {}
  },
  {
   "cell_type": "markdown",
   "source": [
    "## Exercise 2 -- Gini Index"
   ],
   "metadata": {}
  },
  {
   "cell_type": "code",
   "execution_count": null,
   "source": [
    "def gini_index(region:np.ndarray):\r\n",
    "    \"\"\"\r\n",
    "    Implements the gini index over the classes in a region\r\n",
    "    \r\n",
    "    Parameters\r\n",
    "    ----------\r\n",
    "    region : array (1D)\r\n",
    "        array of labels assigned to points in this region\r\n",
    "        \r\n",
    "    Returns\r\n",
    "    -------\r\n",
    "    float\r\n",
    "        the Gini Index\r\n",
    "    \"\"\"\r\n",
    "    # Nessa função é calculada pureza do dataset\r\n",
    "    # O indíice de Gini é usado para esse cálculo.\r\n",
    "    classes = np.unique(region)\r\n",
    "    G = 0\r\n",
    "    for k in classes:\r\n",
    "        # Calculando a proporção de cada classe dentro do dataset\r\n",
    "        pmk = region[region==k].shape[0]/region.shape[0]\r\n",
    "        # Calculando a pureza dessa classe e somando ao índice de Gini\r\n",
    "        G += pmk*(1-pmk)\r\n",
    "    # Se os dados forem impuros, ou seja, com apenas uma classe, o índice de Gine será 0\r\n",
    "    return G\r\n",
    "\r\n",
    "gini_index(y)"
   ],
   "outputs": [],
   "metadata": {}
  },
  {
   "cell_type": "code",
   "execution_count": null,
   "source": [
    "#Teste do Gini Index\r\n",
    "np.random.seed(0)\r\n",
    "gini_index(np.random.randint(0, 2, 20)), gini_index(np.ones(10)), gini_index(np.zeros(10)), gini_index(np.array([]))"
   ],
   "outputs": [],
   "metadata": {}
  }
 ],
 "metadata": {
  "orig_nbformat": 4,
  "language_info": {
   "name": "python",
   "version": "3.9.7",
   "mimetype": "text/x-python",
   "codemirror_mode": {
    "name": "ipython",
    "version": 3
   },
   "pygments_lexer": "ipython3",
   "nbconvert_exporter": "python",
   "file_extension": ".py"
  },
  "kernelspec": {
   "name": "python3",
   "display_name": "Python 3.9.7 64-bit"
  },
  "interpreter": {
   "hash": "9d22e210787f932f44a26469d735647043a268fad5da08dd695a23660e1e54d0"
  }
 },
 "nbformat": 4,
 "nbformat_minor": 2
}